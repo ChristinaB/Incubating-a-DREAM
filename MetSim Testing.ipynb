{
 "cells": [
  {
   "cell_type": "markdown",
   "metadata": {},
   "source": [
    "MetSim Installation steps\n",
    "1. From https://github.com/UW-Hydro/MetSim/tree/develop  download develop branch 6/13/17\n",
    "2. Upload to .../notebooks/data folder\n",
    "3. Unzip \n",
    "4. From terminal .../notebooks/data folder, run the line: \n",
    "> python3 setup.py install --user\n",
    "5. Start a new Python3 Jupyter Notebook (this notebook, rename, make pretty, etc. )\n",
    "\n",
    "Other installs \n",
    "Xarray\n",
    "$ conda install -c conda-forge xarray netcdf4"
   ]
  },
  {
   "cell_type": "markdown",
   "metadata": {},
   "source": [
    "Import Libraries"
   ]
  },
  {
   "cell_type": "code",
   "execution_count": 1,
   "metadata": {},
   "outputs": [],
   "source": [
    "from metsim import MetSim"
   ]
  },
  {
   "cell_type": "code",
   "execution_count": null,
   "metadata": {
    "collapsed": true
   },
   "outputs": [],
   "source": []
  }
 ],
 "metadata": {
  "kernelspec": {
   "display_name": "Python 3",
   "language": "python",
   "name": "python3"
  },
  "language_info": {
   "codemirror_mode": {
    "name": "ipython",
    "version": 3
   },
   "file_extension": ".py",
   "mimetype": "text/x-python",
   "name": "python",
   "nbconvert_exporter": "python",
   "pygments_lexer": "ipython3",
   "version": "3.6.3"
  }
 },
 "nbformat": 4,
 "nbformat_minor": 2
}
